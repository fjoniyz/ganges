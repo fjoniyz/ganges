{
 "cells": [
  {
   "cell_type": "code",
   "execution_count": 1,
   "metadata": {},
   "outputs": [],
   "source": [
    "from kafka import KafkaConsumer\n",
    "import matplotlib.pyplot as plt\n",
    "import seaborn as sns\n",
    "import numpy as np\n",
    "from IPython.display import clear_output\n",
    "import json\n",
    "\n",
    "topic = 'streams-input'\n",
    "window_size = 100\n",
    "bootstrap_server = 'localhost:9092'"
   ]
  },
  {
   "cell_type": "code",
   "execution_count": 2,
   "metadata": {},
   "outputs": [],
   "source": [
    "consumer = KafkaConsumer(\n",
    "    topic,\n",
    "    bootstrap_servers=[bootstrap_server],\n",
    "    value_deserializer=lambda m: json.loads(m.decode('ascii')),\n",
    "    auto_offset_reset='earliest'  # Adjust this as needed\n",
    ")"
   ]
  },
  {
   "cell_type": "code",
   "execution_count": 3,
   "metadata": {},
   "outputs": [
    {
     "ename": "KeyboardInterrupt",
     "evalue": "",
     "output_type": "error",
     "traceback": [
      "\u001b[0;31m---------------------------------------------------------------------------\u001b[0m",
      "\u001b[0;31mKeyboardInterrupt\u001b[0m                         Traceback (most recent call last)",
      "Cell \u001b[0;32mIn[3], line 37\u001b[0m\n\u001b[1;32m     34\u001b[0m display(fig)\n\u001b[1;32m     36\u001b[0m clear_output(wait \u001b[39m=\u001b[39m \u001b[39mTrue\u001b[39;00m)\n\u001b[0;32m---> 37\u001b[0m plt\u001b[39m.\u001b[39;49mpause(\u001b[39m1\u001b[39;49m)\n",
      "File \u001b[0;32m~/.local/lib/python3.11/site-packages/matplotlib/pyplot.py:584\u001b[0m, in \u001b[0;36mpause\u001b[0;34m(interval)\u001b[0m\n\u001b[1;32m    582\u001b[0m     canvas\u001b[39m.\u001b[39mstart_event_loop(interval)\n\u001b[1;32m    583\u001b[0m \u001b[39melse\u001b[39;00m:\n\u001b[0;32m--> 584\u001b[0m     time\u001b[39m.\u001b[39msleep(interval)\n",
      "\u001b[0;31mKeyboardInterrupt\u001b[0m: "
     ]
    }
   ],
   "source": [
    "# Initialize an empty list to store message values\n",
    "messages = np.array([])\n",
    "\n",
    "fig, axs = plt.subplots(2)\n",
    "line, = axs[0].plot([], [])\n",
    "\n",
    "axs[0].set_xticklabels([])\n",
    "axs[0].set_xticks([])\n",
    "axs[0].set_ylabel('Message Value')\n",
    "axs[0].set_title(f'Streamed Values for Topic: {topic}')\n",
    "\n",
    "sns.histplot(messages, ax=axs[1], color='blue')\n",
    "axs[1].set_xlabel('Values')\n",
    "axs[1].set_ylabel('Frequency')\n",
    "axs[1].set_title('Value Distribution')\n",
    "\n",
    "while True:\n",
    "    records = consumer.poll(timeout_ms=1000)\n",
    "    for topic_data, consumer_records in records.items():\n",
    "        for consumer_record in consumer_records:\n",
    "            messages = np.append(messages, consumer_record.value['value'])\n",
    "    line.set_data(range(len(messages[-window_size:])), messages[-window_size:])\n",
    "    \n",
    "    axs[1].cla()\n",
    "    sns.histplot(messages, ax=axs[1], color='blue')\n",
    "    axs[1].set_xlabel('Values')\n",
    "    axs[1].set_ylabel('Frequency')\n",
    "    axs[1].set_title('Value Distribution')\n",
    "    axs[1].relim()\n",
    "    axs[1].autoscale_view()\n",
    "\n",
    "    axs[0].relim()\n",
    "    axs[0].autoscale_view()\n",
    "    display(fig)\n",
    "    \n",
    "    clear_output(wait = True)\n",
    "    plt.pause(1)\n",
    "    "
   ]
  },
  {
   "cell_type": "code",
   "execution_count": null,
   "metadata": {},
   "outputs": [],
   "source": []
  }
 ],
 "metadata": {
  "kernelspec": {
   "display_name": "Python 3",
   "language": "python",
   "name": "python3"
  },
  "language_info": {
   "codemirror_mode": {
    "name": "ipython",
    "version": 3
   },
   "file_extension": ".py",
   "mimetype": "text/x-python",
   "name": "python",
   "nbconvert_exporter": "python",
   "pygments_lexer": "ipython3",
   "version": "3.11.4"
  },
  "orig_nbformat": 4
 },
 "nbformat": 4,
 "nbformat_minor": 2
}
